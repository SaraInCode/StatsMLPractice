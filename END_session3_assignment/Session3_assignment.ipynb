{
 "cells": [
  {
   "cell_type": "markdown",
   "metadata": {},
   "source": [
    "### 1) Write a function using only list filter lambda that can tell whether a number is a Fibonacci number or not. You can use a pre-calculated list/dict to store fab numbers till 10000 PTS:100"
   ]
  },
  {
   "cell_type": "code",
   "execution_count": 1,
   "metadata": {},
   "outputs": [],
   "source": [
    "import math as m\n",
    "def is_fib(number):\n",
    "    return(list(map(lambda number: str(number)+\" is fibonacci\" \n",
    "                    if (5*number**2+4 == int(m.sqrt(5*number**2+4)**2)\n",
    "                    or 5*number**2-4 == int(m.sqrt(5*number**2-4)**2))\n",
    "                    else str(number)+\" is not fibonacci\", number)))\n",
    "# number = list(range(0,10001))\n",
    "# is_fib(number)"
   ]
  },
  {
   "cell_type": "markdown",
   "metadata": {},
   "source": [
    "### 2) Using list comprehension (and zip/lambda/etc if required) write five different expressions that:"
   ]
  },
  {
   "cell_type": "code",
   "execution_count": 2,
   "metadata": {},
   "outputs": [
    {
     "name": "stdout",
     "output_type": "stream",
     "text": [
      "[3, 7, 11, 15]\n"
     ]
    }
   ],
   "source": [
    "## add 2 iterables a and b such that a is even and b is odd\n",
    "x = list(range(0,10))\n",
    "a = list(filter(lambda x: x if x%2 == 0 else None,x))\n",
    "b = list(filter(lambda x: x if x%2 != 0 else None,x))\n",
    "sum_ab = [sum(i) for i in zip(a, b)]  \n",
    "print(sum_ab)"
   ]
  },
  {
   "cell_type": "code",
   "execution_count": 3,
   "metadata": {},
   "outputs": [
    {
     "data": {
      "text/plain": [
       "'ts'"
      ]
     },
     "execution_count": 3,
     "metadata": {},
     "output_type": "execute_result"
    }
   ],
   "source": [
    "##strips every vowel from a string provided (tsai>>t s)\n",
    "test_word = \"tsai\"\n",
    "test_word.translate(str.maketrans(\"\", \"\", 'aeiouAEIOU'))"
   ]
  },
  {
   "cell_type": "code",
   "execution_count": 4,
   "metadata": {},
   "outputs": [
    {
     "data": {
      "text/plain": [
       "[1, 2, 3, 0, 0, 8, 0]"
      ]
     },
     "execution_count": 4,
     "metadata": {},
     "output_type": "execute_result"
    }
   ],
   "source": [
    "##acts like a ReLU function for a 1D array\n",
    "test_array = [1,2,3,-9,-4,8,0]\n",
    "[i if i >= 0 else 0 for i in test_array ]"
   ]
  },
  {
   "cell_type": "code",
   "execution_count": 5,
   "metadata": {},
   "outputs": [
    {
     "data": {
      "text/plain": [
       "[1, 2, 3, -9, -4, 8, 0]"
      ]
     },
     "execution_count": 5,
     "metadata": {},
     "output_type": "execute_result"
    }
   ],
   "source": [
    "##acts like a sigmoid function for a 1D array\n",
    "test_array = [1,2,3,-9,-4,8,0]\n",
    "\n",
    "list(filter(lambda x: 1/(1+m.exp(-x)), test_array))"
   ]
  },
  {
   "cell_type": "code",
   "execution_count": 6,
   "metadata": {},
   "outputs": [
    {
     "data": {
      "text/plain": [
       "'fuuyknzz'"
      ]
     },
     "execution_count": 6,
     "metadata": {},
     "output_type": "execute_result"
    }
   ],
   "source": [
    "##takes a small character string and shifts all characters by 5 (handle boundary conditions) tsai>>yxfn\n",
    "test_word = \"appyfizz\"\n",
    "''.join([chr(ord(x)+5) if x.lower() not in [\"v\",\"w\",\"x\",\"y\",\"z\"] else x for x in test_word])\n"
   ]
  },
  {
   "cell_type": "markdown",
   "metadata": {},
   "source": [
    "### 3) Check for swear words"
   ]
  },
  {
   "cell_type": "code",
   "execution_count": 7,
   "metadata": {},
   "outputs": [],
   "source": [
    "swears = ['4r5e',\n",
    "'5h1t',\n",
    "'5hit',\n",
    "'a55',\n",
    "'anal',\n",
    "'anus',\n",
    "'ar5e',\n",
    "'arrse',\n",
    "'arse',\n",
    "'ass',\n",
    "'ass-fucker',\n",
    "'asses',\n",
    "'assfucker',\n",
    "'assfukka',\n",
    "'asshole',\n",
    "'assholes',\n",
    "'asswhole',\n",
    "'a_s_s',\n",
    "'b!tch',\n",
    "'b00bs',\n",
    "'b17ch',\n",
    "'b1tch',\n",
    "'ballbag',\n",
    "'balls',\n",
    "'ballsack',\n",
    "'bastard',\n",
    "'beastial',\n",
    "'beastiality',\n",
    "'bellend',\n",
    "'bestial',\n",
    "'bestiality',\n",
    "'bi+ch',\n",
    "'biatch',\n",
    "'bitch',\n",
    "'bitcher',\n",
    "'bitchers',\n",
    "'bitches',\n",
    "'bitchin',\n",
    "'bitching',\n",
    "'bloody',\n",
    "'blow job',\n",
    "'blowjob',\n",
    "'blowjobs',\n",
    "'boiolas',\n",
    "'bollock',\n",
    "'bollok',\n",
    "'boner',\n",
    "'boob',\n",
    "'boobs',\n",
    "'booobs',\n",
    "'boooobs',\n",
    "'booooobs',\n",
    "'booooooobs',\n",
    "'breasts',\n",
    "'buceta',\n",
    "'bugger',\n",
    "'bum',\n",
    "'bunny fucker',\n",
    "'butt',\n",
    "'butthole',\n",
    "'buttmunch',\n",
    "'buttplug',\n",
    "'c0ck',\n",
    "'c0cksucker',\n",
    "'carpet muncher',\n",
    "'cawk',\n",
    "'chink',\n",
    "'cipa',\n",
    "'cl1t',\n",
    "'clit',\n",
    "'clitoris',\n",
    "'clits',\n",
    "'cnut',\n",
    "'cock',\n",
    "'cock-sucker',\n",
    "'cockface',\n",
    "'cockhead',\n",
    "'cockmunch',\n",
    "'cockmuncher',\n",
    "'cocks',\n",
    "'cocksuck',\n",
    "'cocksucked',\n",
    "'cocksucker',\n",
    "'cocksucking',\n",
    "'cocksucks',\n",
    "'cocksuka',\n",
    "'cocksukka',\n",
    "'cok',\n",
    "'cokmuncher',\n",
    "'coksucka',\n",
    "'coon',\n",
    "'cox',\n",
    "'crap',\n",
    "'cum',\n",
    "'cummer',\n",
    "'cumming',\n",
    "'cums',\n",
    "'cumshot',\n",
    "'cunilingus',\n",
    "'cunillingus',\n",
    "'cunnilingus',\n",
    "'cunt',\n",
    "'cuntlick',\n",
    "'cuntlicker',\n",
    "'cuntlicking',\n",
    "'cunts',\n",
    "'cyalis',\n",
    "'cyberfuc',\n",
    "'cyberfuck',\n",
    "'cyberfucked',\n",
    "'cyberfucker',\n",
    "'cyberfuckers',\n",
    "'cyberfucking',\n",
    "'d1ck',\n",
    "'damn',\n",
    "'dick',\n",
    "'dickhead',\n",
    "'dildo',\n",
    "'dildos',\n",
    "'dink',\n",
    "'dinks',\n",
    "'dirsa',\n",
    "'dlck',\n",
    "'dog-fucker',\n",
    "'doggin',\n",
    "'dogging',\n",
    "'donkeyribber',\n",
    "'doosh',\n",
    "'duche',\n",
    "'dyke',\n",
    "'ejaculate',\n",
    "'ejaculated',\n",
    "'ejaculates',\n",
    "'ejaculating',\n",
    "'ejaculatings',\n",
    "'ejaculation',\n",
    "'ejakulate',\n",
    "'f u c k',\n",
    "'f u c k e r',\n",
    "'f4nny',\n",
    "'fag',\n",
    "'fagging',\n",
    "'faggitt',\n",
    "'faggot',\n",
    "'faggs',\n",
    "'fagot',\n",
    "'fagots',\n",
    "'fags',\n",
    "'fanny',\n",
    "'fannyflaps',\n",
    "'fannyfucker',\n",
    "'fanyy',\n",
    "'fatass',\n",
    "'fcuk',\n",
    "'fcuker',\n",
    "'fcuking',\n",
    "'feck',\n",
    "'fecker',\n",
    "'felching',\n",
    "'fellate',\n",
    "'fellatio',\n",
    "'fingerfuck',\n",
    "'fingerfucked',\n",
    "'fingerfucker',\n",
    "'fingerfuckers',\n",
    "'fingerfucking',\n",
    "'fingerfucks',\n",
    "'fistfuck',\n",
    "'fistfucked',\n",
    "'fistfucker',\n",
    "'fistfuckers',\n",
    "'fistfucking',\n",
    "'fistfuckings',\n",
    "'fistfucks',\n",
    "'flange',\n",
    "'fook',\n",
    "'fooker',\n",
    "'fuck',\n",
    "'fucka',\n",
    "'fucked',\n",
    "'fucker',\n",
    "'fuckers',\n",
    "'fuckhead',\n",
    "'fuckheads',\n",
    "'fuckin',\n",
    "'fucking',\n",
    "'fuckings',\n",
    "'fuckingshitmotherfucker',\n",
    "'fuckme',\n",
    "'fucks',\n",
    "'fuckwhit',\n",
    "'fuckwit',\n",
    "'fudge packer',\n",
    "'fudgepacker',\n",
    "'fuk',\n",
    "'fuker',\n",
    "'fukker',\n",
    "'fukkin',\n",
    "'fuks',\n",
    "'fukwhit',\n",
    "'fukwit',\n",
    "'fux',\n",
    "'fux0r',\n",
    "'f_u_c_k',\n",
    "'gangbang',\n",
    "'gangbanged',\n",
    "'gangbangs',\n",
    "'gaylord',\n",
    "'gaysex',\n",
    "'goatse',\n",
    "'God',\n",
    "'god-dam',\n",
    "'god-damned',\n",
    "'goddamn',\n",
    "'goddamned',\n",
    "'hardcoresex',\n",
    "'hell',\n",
    "'heshe',\n",
    "'hoar',\n",
    "'hoare',\n",
    "'hoer',\n",
    "'homo',\n",
    "'hore',\n",
    "'horniest',\n",
    "'horny',\n",
    "'hotsex',\n",
    "'jack-off',\n",
    "'jackoff',\n",
    "'jap',\n",
    "'jerk-off',\n",
    "'jism',\n",
    "'jiz',\n",
    "'jizm',\n",
    "'jizz',\n",
    "'kawk',\n",
    "'knob',\n",
    "'knobead',\n",
    "'knobed',\n",
    "'knobend',\n",
    "'knobhead',\n",
    "'knobjocky',\n",
    "'knobjokey',\n",
    "'kock',\n",
    "'kondum',\n",
    "'kondums',\n",
    "'kum',\n",
    "'kummer',\n",
    "'kumming',\n",
    "'kums',\n",
    "'kunilingus',\n",
    "'l3i+ch',\n",
    "'l3itch',\n",
    "'labia',\n",
    "'lmfao',\n",
    "'lust',\n",
    "'lusting',\n",
    "'m0f0',\n",
    "'m0fo',\n",
    "'m45terbate',\n",
    "'ma5terb8',\n",
    "'ma5terbate',\n",
    "'masochist',\n",
    "'master-bate',\n",
    "'masterb8',\n",
    "'masterbat*',\n",
    "'masterbat3',\n",
    "'masterbate',\n",
    "'masterbation',\n",
    "'masterbations',\n",
    "'masturbate',\n",
    "'mo-fo',\n",
    "'mof0',\n",
    "'mofo',\n",
    "'mothafuck',\n",
    "'mothafucka',\n",
    "'mothafuckas',\n",
    "'mothafuckaz',\n",
    "'mothafucked',\n",
    "'mothafucker',\n",
    "'mothafuckers',\n",
    "'mothafuckin',\n",
    "'mothafucking',\n",
    "'mothafuckings',\n",
    "'mothafucks',\n",
    "'mother fucker',\n",
    "'motherfuck',\n",
    "'motherfucked',\n",
    "'motherfucker',\n",
    "'motherfuckers',\n",
    "'motherfuckin',\n",
    "'motherfucking',\n",
    "'motherfuckings',\n",
    "'motherfuckka',\n",
    "'motherfucks',\n",
    "'muff',\n",
    "'mutha',\n",
    "'muthafecker',\n",
    "'muthafuckker',\n",
    "'muther',\n",
    "'mutherfucker',\n",
    "'n1gga',\n",
    "'n1gger',\n",
    "'nazi',\n",
    "'nigg3r',\n",
    "'nigg4h',\n",
    "'nigga',\n",
    "'niggah',\n",
    "'niggas',\n",
    "'niggaz',\n",
    "'nigger',\n",
    "'niggers',\n",
    "'nob',\n",
    "'nob jokey',\n",
    "'nobhead',\n",
    "'nobjocky',\n",
    "'nobjokey',\n",
    "'numbnuts',\n",
    "'nutsack',\n",
    "'orgasim',\n",
    "'orgasims',\n",
    "'orgasm',\n",
    "'orgasms',\n",
    "'p0rn',\n",
    "'pawn',\n",
    "'pecker',\n",
    "'penis',\n",
    "'penisfucker',\n",
    "'phonesex',\n",
    "'phuck',\n",
    "'phuk',\n",
    "'phuked',\n",
    "'phuking',\n",
    "'phukked',\n",
    "'phukking',\n",
    "'phuks',\n",
    "'phuq',\n",
    "'pigfucker',\n",
    "'pimpis',\n",
    "'piss',\n",
    "'pissed',\n",
    "'pisser',\n",
    "'pissers',\n",
    "'pisses',\n",
    "'pissflaps',\n",
    "'pissin',\n",
    "'pissing',\n",
    "'pissoff',\n",
    "'poop',\n",
    "'porn',\n",
    "'porno',\n",
    "'pornography',\n",
    "'pornos',\n",
    "'prick',\n",
    "'pricks',\n",
    "'pron',\n",
    "'pube',\n",
    "'pusse',\n",
    "'pussi',\n",
    "'pussies',\n",
    "'pussy',\n",
    "'pussys',\n",
    "'rectum',\n",
    "'retard',\n",
    "'rimjaw',\n",
    "'rimming',\n",
    "'s hit',\n",
    "'s.o.b.',\n",
    "'sadist',\n",
    "'schlong',\n",
    "'screwing',\n",
    "'scroat',\n",
    "'scrote',\n",
    "'scrotum',\n",
    "'semen',\n",
    "'sex',\n",
    "'sh!+',\n",
    "'sh!t',\n",
    "'sh1t',\n",
    "'shag',\n",
    "'shagger',\n",
    "'shaggin',\n",
    "'shagging',\n",
    "'shemale',\n",
    "'shi+',\n",
    "'shit',\n",
    "'shitdick',\n",
    "'shite',\n",
    "'shited',\n",
    "'shitey',\n",
    "'shitfuck',\n",
    "'shitfull',\n",
    "'shithead',\n",
    "'shiting',\n",
    "'shitings',\n",
    "'shits',\n",
    "'shitted',\n",
    "'shitter',\n",
    "'shitters',\n",
    "'shitting',\n",
    "'shittings',\n",
    "'shitty',\n",
    "'skank',\n",
    "'slut',\n",
    "'sluts',\n",
    "'smegma',\n",
    "'smut',\n",
    "'snatch',\n",
    "'son-of-a-bitch',\n",
    "'spac',\n",
    "'spunk',\n",
    "'s_h_i_t',\n",
    "'t1tt1e5',\n",
    "'t1tties',\n",
    "'teets',\n",
    "'teez',\n",
    "'testical',\n",
    "'testicle',\n",
    "'tit',\n",
    "'titfuck',\n",
    "'tits',\n",
    "'titt',\n",
    "'tittie5',\n",
    "'tittiefucker',\n",
    "'titties',\n",
    "'tittyfuck',\n",
    "'tittywank',\n",
    "'titwank',\n",
    "'tosser',\n",
    "'turd',\n",
    "'tw4t',\n",
    "'twat',\n",
    "'twathead',\n",
    "'twatty',\n",
    "'twunt',\n",
    "'twunter',\n",
    "'v14gra',\n",
    "'v1gra',\n",
    "'vagina',\n",
    "'viagra',\n",
    "'vulva',\n",
    "'w00se',\n",
    "'wang',\n",
    "'wank',\n",
    "'wanker',\n",
    "'wanky',\n",
    "'whoar',\n",
    "'whore',\n",
    "'willies',\n",
    "'willy',\n",
    "'xrated',\n",
    "'xxx']"
   ]
  },
  {
   "cell_type": "code",
   "execution_count": 8,
   "metadata": {},
   "outputs": [],
   "source": [
    "para = \"\"\"But while I was sitting down, I saw something that drove me crazy. Somebody’d written “Fuck you” on the wall. It drove me damn near crazy. I thought how Phoebe and all the other little kids would see it, and how they’d wonder what the hell it meant, \n",
    "and then finally some dirty kid would tell them—all cockeyed, naturally—what it meant, and how they’d all think about it and maybe even worry about it for a couple of days.\n",
    "I kept wanting to kill whoever’d written it. \n",
    "I figured it was some perverty bum that’d sneaked in the school late at night to take a leak or something and then wrote it on the wall. I kept picturing myself catching him at it, and how I’d smash his head on the stone steps till he was good and goddam dead and bloody. But I knew, too, I wouldn’t have the guts to do it. I knew that. That made me even more depressed.\n",
    "Karen is stealing flowers from a field for her Instagram. They don’t belong to you, Karen. You fucking dick.‘You prick,’ I told Jimmy, ‘you make me sick.’\n",
    "\n",
    "‘I know you didn’t mean that, Hank,’ he said.\n",
    "\n",
    "Jimmy walked into the kitchen. ‘She’s got a nice family. She lives here with her father, mother and brother. Her brother knows I’m going to fuck her. He’s right. But there’s nothing her can do about it because I can beat the shit out of him. He’s nothing. Hey, watch this!’\"\"\""
   ]
  },
  {
   "cell_type": "code",
   "execution_count": 11,
   "metadata": {},
   "outputs": [
    {
     "data": {
      "text/plain": [
       "['Watch it',\n",
       " 'Watch it',\n",
       " 'Watch it',\n",
       " 'Watch it',\n",
       " 'Watch it',\n",
       " 'Watch it',\n",
       " 'Watch it']"
      ]
     },
     "execution_count": 11,
     "metadata": {},
     "output_type": "execute_result"
    }
   ],
   "source": [
    " [\"Watch it\" for i in para.replace('“',\"\").lower().split() if i in swears]"
   ]
  },
  {
   "cell_type": "markdown",
   "metadata": {},
   "source": [
    "### 4) Using reduce functions:"
   ]
  },
  {
   "cell_type": "code",
   "execution_count": 12,
   "metadata": {},
   "outputs": [
    {
     "data": {
      "text/plain": [
       "14"
      ]
     },
     "execution_count": 12,
     "metadata": {},
     "output_type": "execute_result"
    }
   ],
   "source": [
    "##add only even numbers in a list\n",
    "test_list = list(range(5,10))\n",
    "import functools as fn\n",
    "fn.reduce(lambda x,y: x+y, [i for i in test_list if i%2 == 0])"
   ]
  },
  {
   "cell_type": "code",
   "execution_count": 13,
   "metadata": {},
   "outputs": [
    {
     "data": {
      "text/plain": [
       "'t'"
      ]
     },
     "execution_count": 13,
     "metadata": {},
     "output_type": "execute_result"
    }
   ],
   "source": [
    "##find the biggest character in a string (printable ascii characters)\n",
    "test_string = 'Alphabet'\n",
    "fn.reduce(lambda x,y : x if x > y else y,test_string)\n"
   ]
  },
  {
   "cell_type": "code",
   "execution_count": 20,
   "metadata": {},
   "outputs": [
    {
     "data": {
      "text/plain": [
       "18"
      ]
     },
     "execution_count": 20,
     "metadata": {},
     "output_type": "execute_result"
    }
   ],
   "source": [
    "##adds every 3rd number in a list\n",
    "##adds every 3rd number in a list\n",
    "test_list = list(range(1,12))\n",
    "fn.reduce(lambda x,y : x+y, [i for i in test_list if (test_list.index(i)+1)%3 ==0])\n"
   ]
  },
  {
   "cell_type": "markdown",
   "metadata": {},
   "source": [
    "### 5) Random Number plate generator"
   ]
  },
  {
   "cell_type": "code",
   "execution_count": 57,
   "metadata": {},
   "outputs": [
    {
     "data": {
      "text/plain": [
       "['KA981584LD',\n",
       " 'KA416940KW',\n",
       " 'KA803173DX',\n",
       " 'KA242931UN',\n",
       " 'KA457875JV',\n",
       " 'KA224080HJ',\n",
       " 'KA546877DI',\n",
       " 'KA706427YY',\n",
       " 'KA163655DH',\n",
       " 'KA868404TQ',\n",
       " 'KA794783ZG',\n",
       " 'KA539274AN',\n",
       " 'KA754412VO',\n",
       " 'KA355487WQ',\n",
       " 'KA705545FG']"
      ]
     },
     "execution_count": 57,
     "metadata": {},
     "output_type": "execute_result"
    }
   ],
   "source": [
    "import random\n",
    "import string\n",
    "[''.join([\"KA\",str(random.randint(10,99)),\n",
    "         str(random.randint(1000,9999)),\n",
    "         random.choice(string.ascii_letters),\n",
    "         random.choice(string.ascii_letters)]).upper() for i in range(0,15)]\n"
   ]
  },
  {
   "cell_type": "markdown",
   "metadata": {},
   "source": [
    "### 6) Random number plate generator with flexibility to change"
   ]
  },
  {
   "cell_type": "code",
   "execution_count": 59,
   "metadata": {},
   "outputs": [
    {
     "data": {
      "text/plain": [
       "['DL409144SY',\n",
       " 'DL738192AT',\n",
       " 'DL841013ZO',\n",
       " 'DL188891TG',\n",
       " 'DL648175PZ',\n",
       " 'DL112181XO',\n",
       " 'DL681778TK',\n",
       " 'DL513571QX',\n",
       " 'DL569145WE',\n",
       " 'DL952146NM',\n",
       " 'DL738378YO',\n",
       " 'DL759976HM',\n",
       " 'DL186327BI',\n",
       " 'DL631397QH',\n",
       " 'DL399586UM']"
      ]
     },
     "execution_count": 59,
     "metadata": {},
     "output_type": "execute_result"
    }
   ],
   "source": [
    "import random\n",
    "import string\n",
    "count = 15\n",
    "state = \"DL\"\n",
    "fourdig_lower = 1000\n",
    "fourdig_upper = 9999\n",
    "twodig_lower = 10\n",
    "twodig_upper = 99\n",
    "\n",
    "[''.join([state,str(random.randint(twodig_lower,twodig_upper)),\n",
    "         str(random.randint(fourdig_lower,fourdig_upper)),\n",
    "         random.choice(string.ascii_letters),\n",
    "         random.choice(string.ascii_letters)]).upper() for i in range(0,count)]\n"
   ]
  },
  {
   "cell_type": "code",
   "execution_count": null,
   "metadata": {},
   "outputs": [],
   "source": []
  }
 ],
 "metadata": {
  "kernelspec": {
   "display_name": "Python 3",
   "language": "python",
   "name": "python3"
  },
  "language_info": {
   "codemirror_mode": {
    "name": "ipython",
    "version": 3
   },
   "file_extension": ".py",
   "mimetype": "text/x-python",
   "name": "python",
   "nbconvert_exporter": "python",
   "pygments_lexer": "ipython3",
   "version": "3.8.3"
  }
 },
 "nbformat": 4,
 "nbformat_minor": 4
}
