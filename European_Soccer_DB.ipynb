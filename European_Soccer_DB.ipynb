{
 "cells": [
  {
   "cell_type": "markdown",
   "metadata": {},
   "source": [
    "## Predicting Players Rating"
   ]
  },
  {
   "cell_type": "code",
   "execution_count": 22,
   "metadata": {},
   "outputs": [],
   "source": [
    "import sqlite3 as sql\n",
    "import pandas as pd\n",
    "import numpy as np\n",
    "import seaborn as sns\n",
    "import matplotlib\n",
    "import matplotlib.pyplot as plt\n",
    "from sklearn.tree import DecisionTreeRegressor\n",
    "from sklearn.linear_model import LinearRegression\n",
    "from sklearn.model_selection import train_test_split\n",
    "from sklearn.metrics import mean_squared_error\n",
    "from math import sqrt"
   ]
  },
  {
   "cell_type": "markdown",
   "metadata": {},
   "source": [
    "#### Read Data from the database into Pandas"
   ]
  },
  {
   "cell_type": "code",
   "execution_count": 35,
   "metadata": {},
   "outputs": [],
   "source": [
    "cnx=sql.connect('database.sqlite')\n",
    "df=pd.read_sql_query(\"SELECT * FROM Player_Attributes\",cnx)"
   ]
  },
  {
   "cell_type": "code",
   "execution_count": 36,
   "metadata": {},
   "outputs": [
    {
     "name": "stdout",
     "output_type": "stream",
     "text": [
      "Shape: (183978, 42)\n"
     ]
    },
    {
     "data": {
      "text/plain": [
       "Index(['id', 'player_fifa_api_id', 'player_api_id', 'date', 'overall_rating',\n",
       "       'potential', 'preferred_foot', 'attacking_work_rate',\n",
       "       'defensive_work_rate', 'crossing', 'finishing', 'heading_accuracy',\n",
       "       'short_passing', 'volleys', 'dribbling', 'curve', 'free_kick_accuracy',\n",
       "       'long_passing', 'ball_control', 'acceleration', 'sprint_speed',\n",
       "       'agility', 'reactions', 'balance', 'shot_power', 'jumping', 'stamina',\n",
       "       'strength', 'long_shots', 'aggression', 'interceptions', 'positioning',\n",
       "       'vision', 'penalties', 'marking', 'standing_tackle', 'sliding_tackle',\n",
       "       'gk_diving', 'gk_handling', 'gk_kicking', 'gk_positioning',\n",
       "       'gk_reflexes'],\n",
       "      dtype='object')"
      ]
     },
     "execution_count": 36,
     "metadata": {},
     "output_type": "execute_result"
    }
   ],
   "source": [
    "print('Shape:',df.shape)\n",
    "df.columns"
   ]
  },
  {
   "cell_type": "code",
   "execution_count": 39,
   "metadata": {},
   "outputs": [
    {
     "data": {
      "text/plain": [
       "47301"
      ]
     },
     "execution_count": 39,
     "metadata": {},
     "output_type": "execute_result"
    }
   ],
   "source": [
    "np.count_nonzero(df.isnull())"
   ]
  },
  {
   "cell_type": "code",
   "execution_count": 40,
   "metadata": {},
   "outputs": [],
   "source": [
    "df = df.dropna() # Since its a huge dataset , as a first cut dropping all null value"
   ]
  },
  {
   "cell_type": "code",
   "execution_count": 42,
   "metadata": {},
   "outputs": [
    {
     "name": "stdout",
     "output_type": "stream",
     "text": [
      "Shape: (180354, 42)\n"
     ]
    }
   ],
   "source": [
    "print('Shape:',df.shape) # No. of rows reduced from 183978 to 180354"
   ]
  },
  {
   "cell_type": "code",
   "execution_count": 57,
   "metadata": {},
   "outputs": [
    {
     "ename": "TypeError",
     "evalue": "__init__() got an unexpected keyword argument 'max_rows'",
     "output_type": "error",
     "traceback": [
      "\u001b[1;31m---------------------------------------------------------------------------\u001b[0m",
      "\u001b[1;31mTypeError\u001b[0m                                 Traceback (most recent call last)",
      "\u001b[1;32m~\\Anaconda3\\lib\\site-packages\\IPython\\core\\formatters.py\u001b[0m in \u001b[0;36m__call__\u001b[1;34m(self, obj)\u001b[0m\n\u001b[0;32m    343\u001b[0m             \u001b[0mmethod\u001b[0m \u001b[1;33m=\u001b[0m \u001b[0mget_real_method\u001b[0m\u001b[1;33m(\u001b[0m\u001b[0mobj\u001b[0m\u001b[1;33m,\u001b[0m \u001b[0mself\u001b[0m\u001b[1;33m.\u001b[0m\u001b[0mprint_method\u001b[0m\u001b[1;33m)\u001b[0m\u001b[1;33m\u001b[0m\u001b[0m\n\u001b[0;32m    344\u001b[0m             \u001b[1;32mif\u001b[0m \u001b[0mmethod\u001b[0m \u001b[1;32mis\u001b[0m \u001b[1;32mnot\u001b[0m \u001b[1;32mNone\u001b[0m\u001b[1;33m:\u001b[0m\u001b[1;33m\u001b[0m\u001b[0m\n\u001b[1;32m--> 345\u001b[1;33m                 \u001b[1;32mreturn\u001b[0m \u001b[0mmethod\u001b[0m\u001b[1;33m(\u001b[0m\u001b[1;33m)\u001b[0m\u001b[1;33m\u001b[0m\u001b[0m\n\u001b[0m\u001b[0;32m    346\u001b[0m             \u001b[1;32mreturn\u001b[0m \u001b[1;32mNone\u001b[0m\u001b[1;33m\u001b[0m\u001b[0m\n\u001b[0;32m    347\u001b[0m         \u001b[1;32melse\u001b[0m\u001b[1;33m:\u001b[0m\u001b[1;33m\u001b[0m\u001b[0m\n",
      "\u001b[1;32m~\\Anaconda3\\lib\\site-packages\\pandas\\core\\frame.py\u001b[0m in \u001b[0;36m_repr_html_\u001b[1;34m(self)\u001b[0m\n\u001b[0;32m    694\u001b[0m         \u001b[0mSee\u001b[0m \u001b[0mAlso\u001b[0m\u001b[1;33m\u001b[0m\u001b[0m\n\u001b[0;32m    695\u001b[0m         \u001b[1;33m-\u001b[0m\u001b[1;33m-\u001b[0m\u001b[1;33m-\u001b[0m\u001b[1;33m-\u001b[0m\u001b[1;33m-\u001b[0m\u001b[1;33m-\u001b[0m\u001b[1;33m-\u001b[0m\u001b[1;33m-\u001b[0m\u001b[1;33m\u001b[0m\u001b[0m\n\u001b[1;32m--> 696\u001b[1;33m         \u001b[0mto_html\u001b[0m \u001b[1;33m:\u001b[0m \u001b[0mConvert\u001b[0m \u001b[0mDataFrame\u001b[0m \u001b[0mto\u001b[0m \u001b[0mHTML\u001b[0m\u001b[1;33m.\u001b[0m\u001b[1;33m\u001b[0m\u001b[0m\n\u001b[0m\u001b[0;32m    697\u001b[0m \u001b[1;33m\u001b[0m\u001b[0m\n\u001b[0;32m    698\u001b[0m         \u001b[0mExamples\u001b[0m\u001b[1;33m\u001b[0m\u001b[0m\n",
      "\u001b[1;32m~\\Anaconda3\\lib\\site-packages\\pandas\\core\\frame.py\u001b[0m in \u001b[0;36mto_html\u001b[1;34m(self, buf, columns, col_space, header, index, na_rep, formatters, float_format, sparsify, index_names, justify, bold_rows, classes, escape, max_rows, max_cols, show_dimensions, notebook, decimal, border, table_id)\u001b[0m\n\u001b[0;32m   2035\u001b[0m             \u001b[0mDictionary\u001b[0m \u001b[0mmapping\u001b[0m \u001b[0mcolumns\u001b[0m \u001b[0mcontaining\u001b[0m \u001b[0mdatetime\u001b[0m \u001b[0mtypes\u001b[0m \u001b[0mto\u001b[0m \u001b[0mstata\u001b[0m\u001b[1;33m\u001b[0m\u001b[0m\n\u001b[0;32m   2036\u001b[0m             \u001b[0minternal\u001b[0m \u001b[0mformat\u001b[0m \u001b[0mto\u001b[0m \u001b[0muse\u001b[0m \u001b[0mwhen\u001b[0m \u001b[0mwriting\u001b[0m \u001b[0mthe\u001b[0m \u001b[0mdates\u001b[0m\u001b[1;33m.\u001b[0m \u001b[0mOptions\u001b[0m \u001b[0mare\u001b[0m \u001b[1;34m'tc'\u001b[0m\u001b[1;33m,\u001b[0m\u001b[1;33m\u001b[0m\u001b[0m\n\u001b[1;32m-> 2037\u001b[1;33m             \u001b[1;34m'td'\u001b[0m\u001b[1;33m,\u001b[0m \u001b[1;34m'tm'\u001b[0m\u001b[1;33m,\u001b[0m \u001b[1;34m'tw'\u001b[0m\u001b[1;33m,\u001b[0m \u001b[1;34m'th'\u001b[0m\u001b[1;33m,\u001b[0m \u001b[1;34m'tq'\u001b[0m\u001b[1;33m,\u001b[0m \u001b[1;34m'ty'\u001b[0m\u001b[1;33m.\u001b[0m \u001b[0mColumn\u001b[0m \u001b[0mcan\u001b[0m \u001b[0mbe\u001b[0m \u001b[0meither\u001b[0m \u001b[0man\u001b[0m \u001b[0minteger\u001b[0m\u001b[1;33m\u001b[0m\u001b[0m\n\u001b[0m\u001b[0;32m   2038\u001b[0m             \u001b[1;32mor\u001b[0m \u001b[0ma\u001b[0m \u001b[0mname\u001b[0m\u001b[1;33m.\u001b[0m \u001b[0mDatetime\u001b[0m \u001b[0mcolumns\u001b[0m \u001b[0mthat\u001b[0m \u001b[0mdo\u001b[0m \u001b[1;32mnot\u001b[0m \u001b[0mhave\u001b[0m \u001b[0ma\u001b[0m \u001b[0mconversion\u001b[0m \u001b[0mtype\u001b[0m\u001b[1;33m\u001b[0m\u001b[0m\n\u001b[0;32m   2039\u001b[0m             \u001b[0mspecified\u001b[0m \u001b[0mwill\u001b[0m \u001b[0mbe\u001b[0m \u001b[0mconverted\u001b[0m \u001b[0mto\u001b[0m \u001b[1;34m'tc'\u001b[0m\u001b[1;33m.\u001b[0m \u001b[0mRaises\u001b[0m \u001b[0mNotImplementedError\u001b[0m \u001b[1;32mif\u001b[0m\u001b[1;33m\u001b[0m\u001b[0m\n",
      "\u001b[1;32m~\\Anaconda3\\lib\\site-packages\\pandas\\io\\formats\\format.py\u001b[0m in \u001b[0;36mto_html\u001b[1;34m(self, classes, notebook, border)\u001b[0m\n\u001b[0;32m    751\u001b[0m             \u001b[0mneed_leadsp\u001b[0m \u001b[1;33m=\u001b[0m \u001b[0mdict\u001b[0m\u001b[1;33m(\u001b[0m\u001b[0mzip\u001b[0m\u001b[1;33m(\u001b[0m\u001b[0mfmt_columns\u001b[0m\u001b[1;33m,\u001b[0m \u001b[0mmap\u001b[0m\u001b[1;33m(\u001b[0m\u001b[0mis_numeric_dtype\u001b[0m\u001b[1;33m,\u001b[0m \u001b[0mdtypes\u001b[0m\u001b[1;33m)\u001b[0m\u001b[1;33m)\u001b[0m\u001b[1;33m)\u001b[0m\u001b[1;33m\u001b[0m\u001b[0m\n\u001b[0;32m    752\u001b[0m \u001b[1;33m\u001b[0m\u001b[0m\n\u001b[1;32m--> 753\u001b[1;33m             \u001b[1;32mdef\u001b[0m \u001b[0mspace_format\u001b[0m\u001b[1;33m(\u001b[0m\u001b[0mx\u001b[0m\u001b[1;33m,\u001b[0m \u001b[0my\u001b[0m\u001b[1;33m)\u001b[0m\u001b[1;33m:\u001b[0m\u001b[1;33m\u001b[0m\u001b[0m\n\u001b[0m\u001b[0;32m    754\u001b[0m                 if (y not in self.formatters and\n\u001b[0;32m    755\u001b[0m                         need_leadsp[x] and not restrict_formatting):\n",
      "\u001b[1;31mTypeError\u001b[0m: __init__() got an unexpected keyword argument 'max_rows'"
     ]
    },
    {
     "data": {
      "text/plain": [
       "    ball_control  max(stamina)\n",
       "0            NaN           NaN\n",
       "1            5.0          31.0\n",
       "2            7.0          40.0\n",
       "3           10.0          62.0\n",
       "4           13.0          64.0\n",
       "5            6.0          68.0\n",
       "6           14.0          68.0\n",
       "7            8.0          69.0\n",
       "8           19.0          69.0\n",
       "9            9.0          70.0\n",
       "10          18.0          70.0\n",
       "11          17.0          71.0\n",
       "12          12.0          76.0\n",
       "13          27.0          76.0\n",
       "14          22.0          78.0\n",
       "15          29.0          78.0\n",
       "16          15.0          79.0\n",
       "17          24.0          79.0\n",
       "18          26.0          80.0\n",
       "19          28.0          80.0\n",
       "20          16.0          81.0\n",
       "21          40.0          81.0\n",
       "22          11.0          82.0\n",
       "23          20.0          82.0\n",
       "24          32.0          82.0\n",
       "25          23.0          83.0\n",
       "26          33.0          83.0\n",
       "27          35.0          83.0\n",
       "28          38.0          83.0\n",
       "29          97.0          83.0\n",
       "..           ...           ...\n",
       "64          83.0          93.0\n",
       "65          86.0          93.0\n",
       "66          87.0          93.0\n",
       "67          90.0          93.0\n",
       "68          91.0          93.0\n",
       "69          44.0          94.0\n",
       "70          59.0          94.0\n",
       "71          62.0          94.0\n",
       "72          63.0          94.0\n",
       "73          64.0          94.0\n",
       "74          65.0          94.0\n",
       "75          68.0          94.0\n",
       "76          72.0          94.0\n",
       "77          74.0          94.0\n",
       "78          80.0          94.0\n",
       "79          81.0          94.0\n",
       "80          82.0          94.0\n",
       "81          94.0          94.0\n",
       "82          67.0          95.0\n",
       "83          69.0          95.0\n",
       "84          70.0          95.0\n",
       "85          73.0          95.0\n",
       "86          75.0          95.0\n",
       "87          76.0          95.0\n",
       "88          77.0          95.0\n",
       "89          78.0          95.0\n",
       "90          84.0          95.0\n",
       "91          88.0          95.0\n",
       "92          79.0          96.0\n",
       "93          85.0          96.0\n",
       "\n",
       "[94 rows x 2 columns]"
      ]
     },
     "execution_count": 57,
     "metadata": {},
     "output_type": "execute_result"
    }
   ],
   "source": [
    "bc_stam=''' select ball_control, max(stamina) from Player_Attributes group by ball_control order by stamina'''\n",
    "pd.read_sql_query(bc_stam, cnx)"
   ]
  },
  {
   "cell_type": "markdown",
   "metadata": {},
   "source": [
    "#### It is evident that higher the stamina higher the ball control"
   ]
  },
  {
   "cell_type": "code",
   "execution_count": 68,
   "metadata": {},
   "outputs": [
    {
     "data": {
      "text/plain": [
       "id                                       2\n",
       "player_fifa_api_id                  218353\n",
       "player_api_id                       505942\n",
       "date                   2015-11-19 00:00:00\n",
       "overall_rating                          67\n",
       "potential                               71\n",
       "crossing                                49\n",
       "finishing                               44\n",
       "heading_accuracy                        71\n",
       "short_passing                           61\n",
       "volleys                                 44\n",
       "dribbling                               51\n",
       "curve                                   45\n",
       "free_kick_accuracy                      39\n",
       "long_passing                            64\n",
       "ball_control                            49\n",
       "acceleration                            60\n",
       "sprint_speed                            64\n",
       "agility                                 59\n",
       "reactions                               47\n",
       "balance                                 65\n",
       "shot_power                              55\n",
       "jumping                                 58\n",
       "stamina                                 54\n",
       "strength                                76\n",
       "long_shots                              35\n",
       "aggression                              71\n",
       "interceptions                           70\n",
       "positioning                             45\n",
       "vision                                  54\n",
       "penalties                               48\n",
       "marking                                 65\n",
       "standing_tackle                         69\n",
       "sliding_tackle                          69\n",
       "gk_diving                                6\n",
       "gk_handling                             11\n",
       "gk_kicking                              10\n",
       "gk_positioning                           8\n",
       "gk_reflexes                              8\n",
       "preferred_foot                           0\n",
       "attacking_work_rate                      0\n",
       "defensive_work_rate                      0\n",
       "Name: 1, dtype: object"
      ]
     },
     "execution_count": 68,
     "metadata": {},
     "output_type": "execute_result"
    }
   ],
   "source": [
    "df1=df[['preferred_foot', 'attacking_work_rate',\n",
    "       'defensive_work_rate']]\n",
    "df1=df1.apply(lambda x: pd.factorize(x)[0])\n",
    "df.drop(['preferred_foot', 'attacking_work_rate',\n",
    "       'defensive_work_rate'], axis=1, inplace=True)\n",
    "df = df.join(df1)\n",
    "df.iloc[1]"
   ]
  },
  {
   "cell_type": "markdown",
   "metadata": {},
   "source": [
    "## Linear Regression"
   ]
  },
  {
   "cell_type": "code",
   "execution_count": 70,
   "metadata": {},
   "outputs": [
    {
     "name": "stdout",
     "output_type": "stream",
     "text": [
      "(144283, 40) (144283,)\n",
      "(36071, 40) (36071,)\n",
      "Intercept,b: 0.43\n",
      "Rsq (test score)=  0.86\n",
      "test score: 0.86\n",
      "MSE: 6.92\n",
      "Sqrt MSE: 2.63\n"
     ]
    }
   ],
   "source": [
    "from sklearn import datasets, linear_model\n",
    "from sklearn.model_selection import train_test_split\n",
    "from sklearn.metrics import mean_squared_error, r2_score\n",
    "X = df.drop(['overall_rating','date'], axis = 1)\n",
    "Y = df['overall_rating']\n",
    "\n",
    "X_train,X_test,Y_train,Y_test=train_test_split(X,Y,test_size=0.2)\n",
    "print (X_train.shape,Y_train.shape)\n",
    "print (X_test.shape,Y_test.shape)\n",
    "#fit a model\n",
    "lm = linear_model.LinearRegression()\n",
    "model=lm.fit(X_train,Y_train)\n",
    "Y_pred = lm.predict(X_test)\n",
    "print('Intercept,b:',np.round(lm.intercept_,2))\n",
    "print('Rsq (test score)= ', np.round(r2_score(Y_test, Y_pred),2))\n",
    "print('test score:',np.round(model.score(X_test,Y_test),2))\n",
    "print('MSE:', np.round(mean_squared_error(Y_test, Y_pred),2))\n",
    "print('Sqrt MSE:',np.round(np.sqrt(mean_squared_error(Y_test, Y_pred)),2))"
   ]
  },
  {
   "cell_type": "markdown",
   "metadata": {},
   "source": [
    "## Decision Tree"
   ]
  },
  {
   "cell_type": "code",
   "execution_count": 75,
   "metadata": {},
   "outputs": [
    {
     "name": "stdout",
     "output_type": "stream",
     "text": [
      "MSE: 1.86\n",
      "Sqrt MSE: 1.36\n"
     ]
    }
   ],
   "source": [
    "rg = DecisionTreeRegressor(max_depth=20)\n",
    "rg.fit(X_train, Y_train)\n",
    "Y_pred = rg.predict(X_test)\n",
    "\n",
    "print('MSE:', np.round(mean_squared_error(Y_test, Y_pred),2))\n",
    "print('Sqrt MSE:',np.round(np.sqrt(mean_squared_error(Y_test, Y_pred)),2))"
   ]
  },
  {
   "cell_type": "markdown",
   "metadata": {},
   "source": [
    "## Observation: Decision tree shows a better RMSE value of 1.36 than a simple linear regression model of RMSE 2.63"
   ]
  }
 ],
 "metadata": {
  "kernelspec": {
   "display_name": "Python 3",
   "language": "python",
   "name": "python3"
  },
  "language_info": {
   "codemirror_mode": {
    "name": "ipython",
    "version": 3
   },
   "file_extension": ".py",
   "mimetype": "text/x-python",
   "name": "python",
   "nbconvert_exporter": "python",
   "pygments_lexer": "ipython3",
   "version": "3.6.5"
  }
 },
 "nbformat": 4,
 "nbformat_minor": 2
}
